{
 "cells": [
  {
   "cell_type": "markdown",
   "id": "0e996a5f",
   "metadata": {},
   "source": [
    "SOURCE CODE\n",
    "CASE BASE METODE NUMERIK\n",
    "\n",
    "ANGGOTA KELOMPOK\n",
    "1. Muhammad Fakhri Aldiansyah \t(245150201111049)\n",
    "2. Edgar Jason Husin \t\t\t(245150201111047)\n",
    "3. Muhammad Alif Hisyam\t\t    (245150207111100)\n",
    "4. Dave Carnegie Ongsah\t\t    (245150200111070)\n",
    "5. Auliya Rahman Ariyanto\t\t(245150207111093)"
   ]
  },
  {
   "cell_type": "code",
   "execution_count": 3,
   "id": "f9bd4179",
   "metadata": {},
   "outputs": [
    {
     "name": "stdout",
     "output_type": "stream",
     "text": [
      "Iterasi    a                b                 c               f(c)\n",
      "-----------------------------------------------------------------------\n",
      "1          2                3                 2.5             5.62500\n",
      "2          2                2.5               2.25            1.89062\n",
      "3          2                2.25              2.125           0.34570\n",
      "4          2                2.125             2.0625          -0.35132\n",
      "5          2.0625           2.125             2.09375         -0.00894\n",
      "6          2.09375          2.125             2.109375        0.16684\n",
      "7          2.09375          2.109375          2.1015625       0.07856\n",
      "8          2.09375          2.1015625         2.09765625      0.03471\n",
      "9          2.09375          2.09765625        2.095703125     0.01286\n",
      "10         2.09375          2.095703125       2.0947265625    0.00195\n",
      "\n",
      "Akar yang ditemukan adalah: 2.094727\n"
     ]
    }
   ],
   "source": [
    "#SOAL NOMOR 1\n",
    "\n",
    "def fx(x):\n",
    "    return x**3- 2*x - 5\n",
    "def biseksi_mudah(a, b, Er,max_iter=100):\n",
    "    if fx(a) * fx(b) < 0:\n",
    "      print(f\"Iterasi    a                b                 c               f(c)\")      \n",
    "      print(f\"-----------------------------------------------------------------------\")\n",
    "      i = 1\n",
    "      while abs((b-a))> Er:\n",
    "        c = (a + b) / 2\n",
    "        print(f\"{i:<11}{a:<17}{b:<18}{c:<16}{fx(c):<.5f}\")\n",
    "        if fx(a) * fx(c) < 0:\n",
    "            b = c\n",
    "        else:\n",
    "            a = c\n",
    "        i += 1\n",
    "    else:\n",
    "      print(\"Tidak ada akar pada interval [a,b]\")\n",
    "    return c\n",
    "if __name__ == \"__main__\":\n",
    "   akar = biseksi_mudah(2,3,0.001)\n",
    "   print(f\"\\nAkar yang ditemukan adalah: {akar:.6f}\")"
   ]
  },
  {
   "cell_type": "code",
   "execution_count": 4,
   "id": "b99fe810",
   "metadata": {},
   "outputs": [
    {
     "name": "stdout",
     "output_type": "stream",
     "text": [
      "Iterasi     a             b             c             f(c)          Error\n",
      "------------------------------------------------------------------------------\n",
      " 1          1.00000000    2.00000000    1.50000000   -0.01831093    1.00000000 \n",
      " 2          1.50000000    2.00000000    1.75000000    0.50460268    0.50000000 \n",
      " 3          1.50000000    1.75000000    1.62500000    0.20341904    0.25000000 \n",
      " 4          1.50000000    1.62500000    1.56250000    0.08323318    0.12500000 \n",
      " 5          1.50000000    1.56250000    1.53125000    0.03020315    0.06250000 \n",
      " 6          1.50000000    1.53125000    1.51562500    0.00539040    0.03125000 \n",
      " 7          1.50000000    1.51562500    1.50781250   -0.00659811    0.01562500 \n",
      " 8          1.50781250    1.51562500    1.51171875   -0.00063845    0.00781250 \n",
      " 9          1.51171875    1.51562500    1.51367188    0.00236731    0.00390625 \n",
      " 10         1.51171875    1.51367188    1.51269531    0.00086227    0.00195312 \n",
      " 11         1.51171875    1.51269531    1.51220703    0.00011137    0.00097656 \n",
      " 12         1.51171875    1.51220703    1.51196289   -0.00026367    0.00048828 \n",
      " 13         1.51196289    1.51220703    1.51208496   -0.00007619    0.00024414 \n",
      " 14         1.51208496    1.51220703    1.51214600    0.00001758    0.00012207 \n",
      " 15         1.51208496    1.51214600    1.51211548   -0.00002930    0.00006104 \n",
      " 16         1.51211548    1.51214600    1.51213074   -0.00000586    0.00003052 \n",
      " 17         1.51213074    1.51214600    1.51213837    0.00000586    0.00001526 \n",
      "\n",
      "Akar hampiran = 1.5121383666992188\n",
      "Akar yang ditemukan adalah: 1.512138\n"
     ]
    }
   ],
   "source": [
    "#SOAL NOMOR 2\n",
    "\n",
    "import math\n",
    "\n",
    "\n",
    "def fx(x):\n",
    "    return (math.e**x)-3*x\n",
    "\n",
    "\n",
    "def biseksi_cukup(a, b, Er,max_iter=100):\n",
    "   \n",
    "    if fx(a) * fx(b) < 0:\n",
    "      print(f\"Iterasi     a             b             c             f(c)          Error\")\n",
    "      print(f\"------------------------------------------------------------------------------\")\n",
    "      i = 1\n",
    "      while abs((b-a)) > Er:\n",
    "        c = (a + b) / 2\n",
    "        print(f\" {i:<7}  {a:>12.8f}  {b:>12.8f}  {c:>12.8f}  {fx(c):>12.8f}  {abs(b-a):>12.8f} \")\n",
    "        if fx(a) * fx(c) < 0:\n",
    "            b = c\n",
    "        else:\n",
    "            a = c\n",
    "        i += 1\n",
    "\n",
    "\n",
    "      print(f\"\\nAkar hampiran = {c}\")\n",
    "      return c\n",
    "    else:\n",
    "      print(\"Tidak ada akar pada interval [a,b]\")\n",
    "      return None\n",
    "\n",
    "\n",
    "if __name__ == \"__main__\":\n",
    "   x=1\n",
    "   y=2\n",
    "akar = biseksi_cukup(x,y,0.00001)\n",
    "if akar is not None:\n",
    "        print(f\"Akar yang ditemukan adalah: {akar:.6f}\")\n",
    "\n"
   ]
  },
  {
   "cell_type": "code",
   "execution_count": null,
   "id": "c5a0a291",
   "metadata": {},
   "outputs": [],
   "source": [
    "#SOAL NOMOR 3\n"
   ]
  },
  {
   "cell_type": "code",
   "execution_count": null,
   "id": "d711b879",
   "metadata": {},
   "outputs": [],
   "source": [
    "#SOAL NOMOR 4A\n"
   ]
  },
  {
   "cell_type": "code",
   "execution_count": null,
   "id": "87abf127",
   "metadata": {},
   "outputs": [],
   "source": [
    "#SOAL NOMOR 4B\n"
   ]
  },
  {
   "cell_type": "code",
   "execution_count": null,
   "id": "448306af",
   "metadata": {},
   "outputs": [],
   "source": [
    "#SOAL NOMOR 4C\n"
   ]
  }
 ],
 "metadata": {
  "kernelspec": {
   "display_name": "Python 3",
   "language": "python",
   "name": "python3"
  },
  "language_info": {
   "codemirror_mode": {
    "name": "ipython",
    "version": 3
   },
   "file_extension": ".py",
   "mimetype": "text/x-python",
   "name": "python",
   "nbconvert_exporter": "python",
   "pygments_lexer": "ipython3",
   "version": "3.12.6"
  }
 },
 "nbformat": 4,
 "nbformat_minor": 5
}
